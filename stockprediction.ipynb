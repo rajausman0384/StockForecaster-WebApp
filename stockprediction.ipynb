{
  "nbformat": 4,
  "nbformat_minor": 0,
  "metadata": {
    "colab": {
      "name": "Untitled17.ipynb",
      "provenance": [],
      "collapsed_sections": []
    },
    "kernelspec": {
      "name": "python3",
      "display_name": "Python 3"
    }
  },
  "cells": [
    {
      "cell_type": "code",
      "metadata": {
        "id": "cbghGQ1eC4EC",
        "colab_type": "code",
        "colab": {}
      },
      "source": [
        "from pandas_datareader import data\n",
        "import matplotlib.pyplot as plt\n",
        "import pandas as pd\n",
        "import datetime as dt\n",
        "import urllib.request, json \n",
        "import os\n",
        "import numpy as np\n",
        "import tensorflow as tf # This code has been tested with TensorFlow 1.6\n",
        "from sklearn.preprocessing import MinMaxScaler"
      ],
      "execution_count": 0,
      "outputs": []
    },
    {
      "cell_type": "code",
      "metadata": {
        "id": "fKJ3lr2PD_C3",
        "colab_type": "code",
        "outputId": "ab9fc146-d0b0-458c-f313-a924ccac0d7f",
        "colab": {
          "base_uri": "https://localhost:8080/",
          "height": 34
        }
      },
      "source": [
        "\n",
        "\n",
        "    # Save data to this file\n",
        "    file_to_save = '/editedABL.csv'\n",
        "    print('File already exists. Loading data from CSV')\n",
        "    df = pd.read_csv(file_to_save)"
      ],
      "execution_count": 0,
      "outputs": [
        {
          "output_type": "stream",
          "text": [
            "File already exists. Loading data from CSV\n"
          ],
          "name": "stdout"
        }
      ]
    },
    {
      "cell_type": "code",
      "metadata": {
        "id": "Zf4pligWFPhw",
        "colab_type": "code",
        "outputId": "f6e73ee9-185a-41b5-a2b2-fb96dbf6e505",
        "colab": {
          "base_uri": "https://localhost:8080/",
          "height": 204
        }
      },
      "source": [
        "df.head()"
      ],
      "execution_count": 0,
      "outputs": [
        {
          "output_type": "execute_result",
          "data": {
            "text/html": [
              "<div>\n",
              "<style scoped>\n",
              "    .dataframe tbody tr th:only-of-type {\n",
              "        vertical-align: middle;\n",
              "    }\n",
              "\n",
              "    .dataframe tbody tr th {\n",
              "        vertical-align: top;\n",
              "    }\n",
              "\n",
              "    .dataframe thead th {\n",
              "        text-align: right;\n",
              "    }\n",
              "</style>\n",
              "<table border=\"1\" class=\"dataframe\">\n",
              "  <thead>\n",
              "    <tr style=\"text-align: right;\">\n",
              "      <th></th>\n",
              "      <th>Ldcp</th>\n",
              "      <th>Open</th>\n",
              "      <th>High</th>\n",
              "      <th>Low</th>\n",
              "      <th>Current</th>\n",
              "      <th>Change</th>\n",
              "      <th>Volume</th>\n",
              "      <th>Date</th>\n",
              "    </tr>\n",
              "  </thead>\n",
              "  <tbody>\n",
              "    <tr>\n",
              "      <th>0</th>\n",
              "      <td>97.95</td>\n",
              "      <td>97.11</td>\n",
              "      <td>98.0</td>\n",
              "      <td>95.2</td>\n",
              "      <td>96.78</td>\n",
              "      <td>-1.17</td>\n",
              "      <td>720</td>\n",
              "      <td>2020-01-26 00:53:20</td>\n",
              "    </tr>\n",
              "    <tr>\n",
              "      <th>1</th>\n",
              "      <td>97.95</td>\n",
              "      <td>97.11</td>\n",
              "      <td>98.0</td>\n",
              "      <td>95.2</td>\n",
              "      <td>96.78</td>\n",
              "      <td>-1.17</td>\n",
              "      <td>720</td>\n",
              "      <td>2020-01-26 00:53:20</td>\n",
              "    </tr>\n",
              "    <tr>\n",
              "      <th>2</th>\n",
              "      <td>97.95</td>\n",
              "      <td>97.11</td>\n",
              "      <td>98.0</td>\n",
              "      <td>95.2</td>\n",
              "      <td>96.78</td>\n",
              "      <td>-1.17</td>\n",
              "      <td>720</td>\n",
              "      <td>2020-01-26 00:53:20</td>\n",
              "    </tr>\n",
              "    <tr>\n",
              "      <th>3</th>\n",
              "      <td>97.95</td>\n",
              "      <td>97.11</td>\n",
              "      <td>98.0</td>\n",
              "      <td>95.2</td>\n",
              "      <td>96.78</td>\n",
              "      <td>-1.17</td>\n",
              "      <td>720</td>\n",
              "      <td>2020-01-26 00:53:20</td>\n",
              "    </tr>\n",
              "    <tr>\n",
              "      <th>4</th>\n",
              "      <td>97.95</td>\n",
              "      <td>97.11</td>\n",
              "      <td>98.0</td>\n",
              "      <td>95.2</td>\n",
              "      <td>96.78</td>\n",
              "      <td>-1.17</td>\n",
              "      <td>720</td>\n",
              "      <td>2020-01-26 00:53:20</td>\n",
              "    </tr>\n",
              "  </tbody>\n",
              "</table>\n",
              "</div>"
            ],
            "text/plain": [
              "    Ldcp   Open  High   Low  Current  Change  Volume                 Date\n",
              "0  97.95  97.11  98.0  95.2    96.78   -1.17     720  2020-01-26 00:53:20\n",
              "1  97.95  97.11  98.0  95.2    96.78   -1.17     720  2020-01-26 00:53:20\n",
              "2  97.95  97.11  98.0  95.2    96.78   -1.17     720  2020-01-26 00:53:20\n",
              "3  97.95  97.11  98.0  95.2    96.78   -1.17     720  2020-01-26 00:53:20\n",
              "4  97.95  97.11  98.0  95.2    96.78   -1.17     720  2020-01-26 00:53:20"
            ]
          },
          "metadata": {
            "tags": []
          },
          "execution_count": 6
        }
      ]
    },
    {
      "cell_type": "code",
      "metadata": {
        "id": "X4Ee5EiKFVR8",
        "colab_type": "code",
        "outputId": "a9bb845c-1f97-4adb-dc9b-08891e9d1395",
        "colab": {
          "base_uri": "https://localhost:8080/",
          "height": 631
        }
      },
      "source": [
        "plt.figure(figsize = (18,9))\n",
        "plt.plot(range(df.shape[0]),(df['Low']+df['High'])/2.0)\n",
        "plt.xticks(range(0,df.shape[0],5),df['Date'].loc[::5],rotation=45)\n",
        "plt.xlabel('Date',fontsize=18)\n",
        "plt.ylabel('Mid Price',fontsize=18)\n",
        "plt.show()"
      ],
      "execution_count": 0,
      "outputs": [
        {
          "output_type": "display_data",
          "data": {
            "image/png": "[encoded data removed]",
            "text/plain": [
              "<Figure size 1296x648 with 1 Axes>"
            ]
          },
          "metadata": {
            "tags": []
          }
        }
      ]
    },
    {
      "cell_type": "code",
      "metadata": {
        "id": "cKw3vZM9Kfs8",
        "colab_type": "code",
        "outputId": "189f9cce-bb01-4ad5-90c8-937dba873847",
        "colab": {
          "base_uri": "https://localhost:8080/",
          "height": 105
        }
      },
      "source": [
        "high_prices = df.loc[:,'high'].as_matrix()\n",
        "low_prices = df.loc[:,'low'].as_matrix()\n",
        "mid_prices = (high_prices+low_prices)/2.0"
      ],
      "execution_count": 0,
      "outputs": [
        {
          "output_type": "stream",
          "text": [
            "/usr/local/lib/python3.6/dist-packages/ipykernel_launcher.py:1: FutureWarning: Method .as_matrix will be removed in a future version. Use .values instead.\n",
            "  \"\"\"Entry point for launching an IPython kernel.\n",
            "/usr/local/lib/python3.6/dist-packages/ipykernel_launcher.py:2: FutureWarning: Method .as_matrix will be removed in a future version. Use .values instead.\n",
            "  \n"
          ],
          "name": "stderr"
        }
      ]
    },
    {
      "cell_type": "code",
      "metadata": {
        "id": "Hwo1_kiGLYDM",
        "colab_type": "code",
        "colab": {}
      },
      "source": [
        "train_data = mid_prices[:100]\n",
        "test_data = mid_prices[100:]\n"
      ],
      "execution_count": 0,
      "outputs": []
    },
    {
      "cell_type": "code",
      "metadata": {
        "id": "Fmaz7rb2GFV5",
        "colab_type": "code",
        "outputId": "a7c96b82-4b2a-497c-905b-6a7f4c29c310",
        "colab": {
          "base_uri": "https://localhost:8080/",
          "height": 34
        }
      },
      "source": [
        "print(test_data.size)"
      ],
      "execution_count": 0,
      "outputs": [
        {
          "output_type": "stream",
          "text": [
            "38\n"
          ],
          "name": "stdout"
        }
      ]
    },
    {
      "cell_type": "code",
      "metadata": {
        "id": "COjQ08UJLxvI",
        "colab_type": "code",
        "colab": {}
      },
      "source": [
        "scaler = MinMaxScaler()\n",
        "train_data = train_data.reshape(-1,1)\n",
        "test_data = test_data.reshape(-1,1)"
      ],
      "execution_count": 0,
      "outputs": []
    },
    {
      "cell_type": "code",
      "metadata": {
        "id": "9AbxenuHIQ7i",
        "colab_type": "code",
        "outputId": "84be9c86-26d5-4b18-e3c2-65810af8b915",
        "colab": {
          "base_uri": "https://localhost:8080/",
          "height": 34
        }
      },
      "source": [
        "print(train_data.shape)"
      ],
      "execution_count": 0,
      "outputs": [
        {
          "output_type": "stream",
          "text": [
            "(100, 1)\n"
          ],
          "name": "stdout"
        }
      ]
    },
    {
      "cell_type": "code",
      "metadata": {
        "id": "6dCK5OKKL0ow",
        "colab_type": "code",
        "colab": {}
      },
      "source": [
        "smoothing_window_size = 30\n",
        "for di in range(0,60,smoothing_window_size):\n",
        "    scaler.fit(train_data[di:di+smoothing_window_size,:])\n",
        "    train_data[di:di+smoothing_window_size,:] = scaler.transform(train_data[di:di+smoothing_window_size,:])\n",
        "\n",
        "# You normalize the last bit of remaining data \n",
        "scaler.fit(train_data[di+smoothing_window_size:,:])\n",
        "train_data[di+smoothing_window_size:,:] = scaler.transform(train_data[di+smoothing_window_size:,:])"
      ],
      "execution_count": 0,
      "outputs": []
    },
    {
      "cell_type": "code",
      "metadata": {
        "id": "ElSSd8bSK1l1",
        "colab_type": "code",
        "colab": {}
      },
      "source": [
        "train_data = train_data.reshape(-1)\n",
        "\n",
        "# Normalize test data\n",
        "test_data = scaler.transform(test_data).reshape(-1)"
      ],
      "execution_count": 0,
      "outputs": []
    },
    {
      "cell_type": "code",
      "metadata": {
        "id": "UZTxg59EK_9V",
        "colab_type": "code",
        "outputId": "ffae5a9e-7d99-4a8e-9deb-f2c32cc8580a",
        "colab": {
          "base_uri": "https://localhost:8080/",
          "height": 51
        }
      },
      "source": [
        "print(train_data.shape)\n",
        "print(test_data.shape)"
      ],
      "execution_count": 0,
      "outputs": [
        {
          "output_type": "stream",
          "text": [
            "(100,)\n",
            "(38,)\n"
          ],
          "name": "stdout"
        }
      ]
    },
    {
      "cell_type": "code",
      "metadata": {
        "id": "FxTyJdOILC-8",
        "colab_type": "code",
        "colab": {}
      },
      "source": [
        "EMA = 0.0\n",
        "gamma = 0.1\n",
        "for ti in range(100):\n",
        "  EMA = gamma*train_data[ti] + (1-gamma)*EMA\n",
        "  train_data[ti] = EMA\n",
        "\n",
        "# Used for visualization and test purposes\n",
        "all_mid_data = np.concatenate([train_data,test_data],axis=0)"
      ],
      "execution_count": 0,
      "outputs": []
    },
    {
      "cell_type": "code",
      "metadata": {
        "id": "dNlyTKkbLYoE",
        "colab_type": "code",
        "outputId": "7883de25-204e-4d15-ccaf-a72fbd234c97",
        "colab": {
          "base_uri": "https://localhost:8080/",
          "height": 122
        }
      },
      "source": [
        "window_size = 100\n",
        "N = train_data.size\n",
        "std_avg_predictions = []\n",
        "std_avg_x = []\n",
        "mse_errors = []\n",
        "\n",
        "for pred_idx in range(window_size,N):\n",
        "    \n",
        "    if pred_idx >= N:\n",
        "        date = dt.datetime.strptime(k, '%Y-%m-%d').date() + dt.timedelta(days=1)\n",
        "    else:\n",
        "        date = df.loc[pred_idx,'Date']\n",
        "        \n",
        "    std_avg_predictions.append(np.mean(train_data[pred_idx-window_size:pred_idx]))\n",
        "    mse_errors.append((std_avg_predictions[-1]-train_data[pred_idx])**2)\n",
        "    std_avg_x.append(date)\n",
        "\n",
        "print('MSE error for standard averaging: %.5f'%(0.5*np.mean(mse_errors)))"
      ],
      "execution_count": 0,
      "outputs": [
        {
          "output_type": "stream",
          "text": [
            "MSE error for standard averaging: nan\n"
          ],
          "name": "stdout"
        },
        {
          "output_type": "stream",
          "text": [
            "/usr/local/lib/python3.6/dist-packages/numpy/core/fromnumeric.py:3257: RuntimeWarning: Mean of empty slice.\n",
            "  out=out, **kwargs)\n",
            "/usr/local/lib/python3.6/dist-packages/numpy/core/_methods.py:161: RuntimeWarning: invalid value encountered in double_scalars\n",
            "  ret = ret.dtype.type(ret / rcount)\n"
          ],
          "name": "stderr"
        }
      ]
    },
    {
      "cell_type": "code",
      "metadata": {
        "id": "LrDNCbPdLgTY",
        "colab_type": "code",
        "outputId": "c7ed05f5-d886-4fad-8791-39c2c581e133",
        "colab": {
          "base_uri": "https://localhost:8080/",
          "height": 571
        }
      },
      "source": [
        "plt.figure(figsize = (18,9))\n",
        "plt.plot(range(df.shape[0]),all_mid_data,color='b',label='True')\n",
        "plt.plot(range(window_size,N),std_avg_predictions,color='orange',label='Prediction')\n",
        "#plt.xticks(range(0,df.shape[0],50),df['Date'].loc[::50],rotation=45)\n",
        "plt.xlabel('Date')\n",
        "plt.ylabel('Mid Price')\n",
        "plt.legend(fontsize=18)\n",
        "plt.show()"
      ],
      "execution_count": 0,
      "outputs": [
        {
          "output_type": "display_data",
          "data": {
            "image/png": "[encoded data removed]",
            "text/plain": [
              "<Figure size 1296x648 with 1 Axes>"
            ]
          },
          "metadata": {
            "tags": []
          }
        }
      ]
    },
    {
      "cell_type": "code",
      "metadata": {
        "id": "q1jyCFXoLxkF",
        "colab_type": "code",
        "outputId": "91c68a20-a9ac-48ba-9aeb-4c9154777258",
        "colab": {
          "base_uri": "https://localhost:8080/",
          "height": 34
        }
      },
      "source": [
        "window_size = 100\n",
        "N = train_data.size\n",
        "\n",
        "run_avg_predictions = []\n",
        "run_avg_x = []\n",
        "\n",
        "mse_errors = []\n",
        "\n",
        "running_mean = 0.0\n",
        "run_avg_predictions.append(running_mean)\n",
        "\n",
        "decay = 0.5\n",
        "\n",
        "for pred_idx in range(1,N):\n",
        "\n",
        "  if pred_idx >= N:\n",
        "        date = dt.datetime.strptime(k, '%Y-%m-%d').date() + dt.timedelta(days=1)\n",
        "  else:\n",
        "    date = df.loc[pred_idx,'Date']\n",
        "    \n",
        "    running_mean = running_mean*decay + (1.0-decay)*train_data[pred_idx-1]\n",
        "    run_avg_predictions.append(running_mean)\n",
        "    mse_errors.append((run_avg_predictions[-1]-train_data[pred_idx])**2)\n",
        "    run_avg_x.append(date)\n",
        "\n",
        "print('MSE error for EMA averaging: %.5f'%(0.5*np.mean(mse_errors)))"
      ],
      "execution_count": 0,
      "outputs": [
        {
          "output_type": "stream",
          "text": [
            "MSE error for EMA averaging: 0.00182\n"
          ],
          "name": "stdout"
        }
      ]
    },
    {
      "cell_type": "code",
      "metadata": {
        "id": "jXtDJAbJO-dZ",
        "colab_type": "code",
        "outputId": "0680b763-89d1-444f-b150-1b173001514b",
        "colab": {
          "base_uri": "https://localhost:8080/",
          "height": 571
        }
      },
      "source": [
        "plt.figure(figsize = (18,9))\n",
        "plt.plot(range(df.shape[0]),all_mid_data,color='b',label='True')\n",
        "plt.plot(range(0,N),run_avg_predictions,color='orange', label='Prediction')\n",
        "#plt.xticks(range(0,df.shape[0],50),df['Date'].loc[::50],rotation=45)\n",
        "plt.xlabel('Date')\n",
        "plt.ylabel('Mid Price')\n",
        "plt.legend(fontsize=18)\n",
        "plt.show()"
      ],
      "execution_count": 0,
      "outputs": [
        {
          "output_type": "display_data",
          "data": {
            "image/png": "[encoded data removed]",
            "text/plain": [
              "<Figure size 1296x648 with 1 Axes>"
            ]
          },
          "metadata": {
            "tags": []
          }
        }
      ]
    },
    {
      "cell_type": "code",
      "metadata": {
        "id": "8_g1CxD_PKwD",
        "colab_type": "code",
        "outputId": "7b4df506-2a63-4824-c207-70292af0b6f1",
        "colab": {
          "base_uri": "https://localhost:8080/",
          "height": 1000
        }
      },
      "source": [
        "# class DataGeneratorSeq(object):\n",
        "    \n",
        "#     def __init__(self,prices,batch_size,num_unroll):\n",
        "#         self._prices = prices\n",
        "#         self._prices_length = len(self._prices) - num_unroll\n",
        "#         self._batch_size = batch_size\n",
        "#         self._num_unroll = num_unroll\n",
        "#         self._segments = self._prices_length //self._batch_size\n",
        "#         self._cursor = [offset * self._segments for offset in range(self._batch_size)]\n",
        "\n",
        "#     def next_batch(self):\n",
        "        \n",
        "#         batch_data = np.zeros((self._batch_size),dtype=np.float32)\n",
        "#         print(\"initial batch datat = \",batch_data)\n",
        "#         print(self._batch_size)\n",
        "#         batch_labels = np.zeros((self._batch_size),dtype=np.float32)\n",
        "#         print(\"initial batch label = \",batch_labels)\n",
        "#         for b in range(self._batch_size):\n",
        "#             print(\"prices are \",self._prices_length)\n",
        "#             print(\"above self cursor[b] is \", self._cursor[b])\n",
        "#             if self._cursor[b]+1>=self._prices_length:\n",
        "#                 self._cursor[b] = b * 1\n",
        "#                 # self._cursor[b] = np.random.randint(0,(b+1)*self._segments)\n",
        "#             print(\"self cursor b+1 is \",self._cursor[b]+1) \n",
        "#             print(\"segement is \",self._segments)\n",
        "#             # print(\"price list are \",self._prices)   \n",
        "#             batch_data[b] = self._prices[self._cursor[b]]\n",
        "#             print(\"value of b is \",b)\n",
        "#             print(\"value of batchdata[b] is \",batch_data[b])\n",
        "#             batch_labels[b]= self._prices[self._cursor[b]+np.random.randint(1,5)]\n",
        "#             print(\"value of batchlabel[b] is \",batch_labels[b])\n",
        "#             self._cursor[b] = (self._cursor[b]+1)%self._prices_length\n",
        "#             print(\"value of self cursor[b] is \",self._cursor[b])\n",
        "#         return batch_data,batch_labels\n",
        "    \n",
        "#     def unroll_batches(self):\n",
        "            \n",
        "#         unroll_data,unroll_labels = [],[]\n",
        "#         init_data, init_label = None,None\n",
        "#         for ui in range(self._num_unroll):\n",
        "            \n",
        "#             data, labels = self.next_batch()\n",
        "#             print(\"data is \",data)\n",
        "#             print(\"label is \",labels)    \n",
        "\n",
        "#             unroll_data.append(data)\n",
        "#             unroll_labels.append(labels)\n",
        "\n",
        "#         return unroll_data, unroll_labels\n",
        "    \n",
        "#     # def reset_indices(self):\n",
        "#     #     for b in range(self._batch_size):\n",
        "#     #         self._cursor[b] = np.random.randint(0,min((b+1)*self._segments,self._prices_length-1))\n",
        "#     #     print(\"indices self cursor[b] is \",self._cursor[b])\n",
        "        \n",
        "\n",
        "\n",
        "# dg = DataGeneratorSeq(train_data,5,5)\n",
        "# u_data, u_labels = dg.unroll_batches()\n",
        "\n",
        "# for ui,(dat,lbl) in enumerate(zip(u_data,u_labels)):   \n",
        "#     print('\\n\\nUnrolled index %d'%ui)\n",
        "#     dat_ind = dat\n",
        "#     lbl_ind = lbl\n",
        "#     print('\\tInputs: ',dat )\n",
        "#     print('\\n\\tOutput:',lbl)"
      ],
      "execution_count": 0,
      "outputs": [
        {
          "output_type": "stream",
          "text": [
            "initial batch datat =  [0. 0. 0. 0. 0.]\n",
            "5\n",
            "initial batch label =  [0. 0. 0. 0. 0.]\n",
            "prices are  95\n",
            "above self cursor[b] is  0\n",
            "self cursor b+1 is  1\n",
            "segement is  19\n",
            "value of b is  0\n",
            "value of batchdata[b] is  0.0\n",
            "value of batchlabel[b] is  0.1\n",
            "value of self cursor[b] is  1\n",
            "prices are  95\n",
            "above self cursor[b] is  19\n",
            "self cursor b+1 is  20\n",
            "segement is  19\n",
            "value of b is  1\n",
            "value of batchdata[b] is  0.6626207\n",
            "value of batchlabel[b] is  0.58346224\n",
            "value of self cursor[b] is  20\n",
            "prices are  95\n",
            "above self cursor[b] is  38\n",
            "self cursor b+1 is  39\n",
            "segement is  19\n",
            "value of b is  2\n",
            "value of batchdata[b] is  0.17945267\n",
            "value of batchlabel[b] is  0.3887389\n",
            "value of self cursor[b] is  39\n",
            "prices are  95\n",
            "above self cursor[b] is  57\n",
            "self cursor b+1 is  58\n",
            "segement is  19\n",
            "value of b is  3\n",
            "value of batchdata[b] is  0.5265893\n",
            "value of batchlabel[b] is  0.4579606\n",
            "value of self cursor[b] is  58\n",
            "prices are  95\n",
            "above self cursor[b] is  76\n",
            "self cursor b+1 is  77\n",
            "segement is  19\n",
            "value of b is  4\n",
            "value of batchdata[b] is  0.094290026\n",
            "value of batchlabel[b] is  0.07637492\n",
            "value of self cursor[b] is  77\n",
            "data is  [0.         0.6626207  0.17945267 0.5265893  0.09429003]\n",
            "label is  [0.1        0.58346224 0.3887389  0.4579606  0.07637492]\n",
            "initial batch datat =  [0. 0. 0. 0. 0.]\n",
            "5\n",
            "initial batch label =  [0. 0. 0. 0. 0.]\n",
            "prices are  95\n",
            "above self cursor[b] is  1\n",
            "self cursor b+1 is  2\n",
            "segement is  19\n",
            "value of b is  0\n",
            "value of batchdata[b] is  0.1\n",
            "value of batchlabel[b] is  0.3439\n",
            "value of self cursor[b] is  2\n",
            "prices are  95\n",
            "above self cursor[b] is  20\n",
            "self cursor b+1 is  21\n",
            "segement is  19\n",
            "value of b is  1\n",
            "value of batchdata[b] is  0.6375351\n",
            "value of batchlabel[b] is  0.6090757\n",
            "value of self cursor[b] is  21\n",
            "prices are  95\n",
            "above self cursor[b] is  39\n",
            "self cursor b+1 is  40\n",
            "segement is  19\n",
            "value of b is  2\n",
            "value of batchdata[b] is  0.1615074\n",
            "value of batchlabel[b] is  0.3887389\n",
            "value of self cursor[b] is  40\n",
            "prices are  95\n",
            "above self cursor[b] is  58\n",
            "self cursor b+1 is  59\n",
            "segement is  19\n",
            "value of b is  3\n",
            "value of batchdata[b] is  0.54700726\n",
            "value of batchlabel[b] is  0.41216454\n",
            "value of self cursor[b] is  59\n",
            "prices are  95\n",
            "above self cursor[b] is  77\n",
            "self cursor b+1 is  78\n",
            "segement is  19\n",
            "value of b is  4\n",
            "value of batchdata[b] is  0.084861025\n",
            "value of batchlabel[b] is  0.07637492\n",
            "value of self cursor[b] is  78\n",
            "data is  [0.1        0.6375351  0.1615074  0.54700726 0.08486103]\n",
            "label is  [0.3439     0.6090757  0.3887389  0.41216454 0.07637492]\n",
            "initial batch datat =  [0. 0. 0. 0. 0.]\n",
            "5\n",
            "initial batch label =  [0. 0. 0. 0. 0.]\n",
            "prices are  95\n",
            "above self cursor[b] is  2\n",
            "self cursor b+1 is  3\n",
            "segement is  19\n",
            "value of b is  0\n",
            "value of batchdata[b] is  0.19\n",
            "value of batchlabel[b] is  0.271\n",
            "value of self cursor[b] is  3\n",
            "prices are  95\n",
            "above self cursor[b] is  21\n",
            "self cursor b+1 is  22\n",
            "segement is  19\n",
            "value of b is  1\n",
            "value of batchdata[b] is  0.6090757\n",
            "value of batchlabel[b] is  0.520991\n",
            "value of self cursor[b] is  22\n",
            "prices are  95\n",
            "above self cursor[b] is  40\n",
            "self cursor b+1 is  41\n",
            "segement is  19\n",
            "value of b is  2\n",
            "value of batchdata[b] is  0.24535666\n",
            "value of batchlabel[b] is  0.320821\n",
            "value of self cursor[b] is  41\n",
            "prices are  95\n",
            "above self cursor[b] is  59\n",
            "self cursor b+1 is  60\n",
            "segement is  19\n",
            "value of b is  3\n",
            "value of batchdata[b] is  0.56538343\n",
            "value of batchlabel[b] is  0.4579606\n",
            "value of self cursor[b] is  60\n",
            "prices are  95\n",
            "above self cursor[b] is  78\n",
            "self cursor b+1 is  79\n",
            "segement is  19\n",
            "value of b is  4\n",
            "value of batchdata[b] is  0.07637492\n",
            "value of batchlabel[b] is  0.061863687\n",
            "value of self cursor[b] is  79\n",
            "data is  [0.19       0.6090757  0.24535666 0.56538343 0.07637492]\n",
            "label is  [0.271      0.520991   0.320821   0.4579606  0.06186369]\n",
            "initial batch datat =  [0. 0. 0. 0. 0.]\n",
            "5\n",
            "initial batch label =  [0. 0. 0. 0. 0.]\n",
            "prices are  95\n",
            "above self cursor[b] is  3\n",
            "self cursor b+1 is  4\n",
            "segement is  19\n",
            "value of b is  0\n",
            "value of batchdata[b] is  0.271\n",
            "value of batchlabel[b] is  0.468559\n",
            "value of self cursor[b] is  4\n",
            "prices are  95\n",
            "above self cursor[b] is  22\n",
            "self cursor b+1 is  23\n",
            "segement is  19\n",
            "value of b is  1\n",
            "value of batchdata[b] is  0.58346224\n",
            "value of batchlabel[b] is  0.50418603\n",
            "value of self cursor[b] is  23\n",
            "prices are  95\n",
            "above self cursor[b] is  41\n",
            "self cursor b+1 is  42\n",
            "segement is  19\n",
            "value of b is  2\n",
            "value of batchdata[b] is  0.320821\n",
            "value of batchlabel[b] is  0.43746758\n",
            "value of self cursor[b] is  42\n",
            "prices are  95\n",
            "above self cursor[b] is  60\n",
            "self cursor b+1 is  61\n",
            "segement is  19\n",
            "value of b is  3\n",
            "value of batchdata[b] is  0.5088451\n",
            "value of batchlabel[b] is  0.4579606\n",
            "value of self cursor[b] is  61\n",
            "prices are  95\n",
            "above self cursor[b] is  79\n",
            "self cursor b+1 is  80\n",
            "segement is  19\n",
            "value of b is  4\n",
            "value of batchdata[b] is  0.06873743\n",
            "value of batchlabel[b] is  0.061863687\n",
            "value of self cursor[b] is  80\n",
            "data is  [0.271      0.58346224 0.320821   0.5088451  0.06873743]\n",
            "label is  [0.468559   0.50418603 0.43746758 0.4579606  0.06186369]\n",
            "initial batch datat =  [0. 0. 0. 0. 0.]\n",
            "5\n",
            "initial batch label =  [0. 0. 0. 0. 0.]\n",
            "prices are  95\n",
            "above self cursor[b] is  4\n",
            "self cursor b+1 is  5\n",
            "segement is  19\n",
            "value of b is  0\n",
            "value of batchdata[b] is  0.3439\n",
            "value of batchlabel[b] is  0.5695328\n",
            "value of self cursor[b] is  5\n",
            "prices are  95\n",
            "above self cursor[b] is  23\n",
            "self cursor b+1 is  24\n",
            "segement is  19\n",
            "value of b is  1\n",
            "value of batchdata[b] is  0.56041014\n",
            "value of batchlabel[b] is  0.50418603\n",
            "value of self cursor[b] is  24\n",
            "prices are  95\n",
            "above self cursor[b] is  42\n",
            "self cursor b+1 is  43\n",
            "segement is  19\n",
            "value of b is  2\n",
            "value of batchdata[b] is  0.3887389\n",
            "value of batchlabel[b] is  0.43746758\n",
            "value of self cursor[b] is  43\n",
            "prices are  95\n",
            "above self cursor[b] is  61\n",
            "self cursor b+1 is  62\n",
            "segement is  19\n",
            "value of b is  3\n",
            "value of batchdata[b] is  0.4579606\n",
            "value of batchlabel[b] is  0.30046794\n",
            "value of self cursor[b] is  62\n",
            "prices are  95\n",
            "above self cursor[b] is  80\n",
            "self cursor b+1 is  81\n",
            "segement is  19\n",
            "value of b is  4\n",
            "value of batchdata[b] is  0.061863687\n",
            "value of batchlabel[b] is  0.055677317\n",
            "value of self cursor[b] is  81\n",
            "data is  [0.3439     0.56041014 0.3887389  0.4579606  0.06186369]\n",
            "label is  [0.5695328  0.50418603 0.43746758 0.30046794 0.05567732]\n",
            "\n",
            "\n",
            "Unrolled index 0\n",
            "\tInputs:  [0.         0.6626207  0.17945267 0.5265893  0.09429003]\n",
            "\n",
            "\tOutput: [0.1        0.58346224 0.3887389  0.4579606  0.07637492]\n",
            "\n",
            "\n",
            "Unrolled index 1\n",
            "\tInputs:  [0.1        0.6375351  0.1615074  0.54700726 0.08486103]\n",
            "\n",
            "\tOutput: [0.3439     0.6090757  0.3887389  0.41216454 0.07637492]\n",
            "\n",
            "\n",
            "Unrolled index 2\n",
            "\tInputs:  [0.19       0.6090757  0.24535666 0.56538343 0.07637492]\n",
            "\n",
            "\tOutput: [0.271      0.520991   0.320821   0.4579606  0.06186369]\n",
            "\n",
            "\n",
            "Unrolled index 3\n",
            "\tInputs:  [0.271      0.58346224 0.320821   0.5088451  0.06873743]\n",
            "\n",
            "\tOutput: [0.468559   0.50418603 0.43746758 0.4579606  0.06186369]\n",
            "\n",
            "\n",
            "Unrolled index 4\n",
            "\tInputs:  [0.3439     0.56041014 0.3887389  0.4579606  0.06186369]\n",
            "\n",
            "\tOutput: [0.5695328  0.50418603 0.43746758 0.30046794 0.05567732]\n"
          ],
          "name": "stdout"
        }
      ]
    },
    {
      "cell_type": "code",
      "metadata": {
        "id": "6HIDzDi1gkSx",
        "colab_type": "code",
        "outputId": "1af1a952-ace1-4ee2-d7da-09dec87b7798",
        "colab": {
          "base_uri": "https://localhost:8080/",
          "height": 527
        }
      },
      "source": [
        "class DataGeneratorSeq(object):\n",
        "    \n",
        "    def __init__(self,prices,batch_size,num_unroll):\n",
        "        self._prices = prices\n",
        "        self._prices_length = len(self._prices) - num_unroll\n",
        "        self._batch_size = batch_size\n",
        "        self._num_unroll = num_unroll\n",
        "        self._segments = self._prices_length //self._batch_size\n",
        "        self._cursor = [offset * self._segments for offset in range(self._batch_size)]\n",
        "\n",
        "    def next_batch(self):\n",
        "        \n",
        "        batch_data = np.zeros((self._batch_size),dtype=np.float32)\n",
        "        batch_labels = np.zeros((self._batch_size),dtype=np.float32)\n",
        "        \n",
        "        for b in range(self._batch_size):\n",
        "            if self._cursor[b]+1>=self._prices_length:\n",
        "                #self._cursor[b] = b * self._segments\n",
        "                self._cursor[b] = np.random.randint(0,(b+1)*self._segments)\n",
        "                \n",
        "            batch_data[b] = self._prices[self._cursor[b]]\n",
        "            batch_labels[b]= self._prices[self._cursor[b]+np.random.randint(1,5)]\n",
        "            \n",
        "            self._cursor[b] = (self._cursor[b]+1)%self._prices_length\n",
        "            \n",
        "        return batch_data,batch_labels\n",
        "    \n",
        "    def unroll_batches(self):\n",
        "            \n",
        "        unroll_data,unroll_labels = [],[]\n",
        "        init_data, init_label = None,None\n",
        "        for ui in range(self._num_unroll):\n",
        "            \n",
        "            data, labels = self.next_batch()    \n",
        "\n",
        "            unroll_data.append(data)\n",
        "            unroll_labels.append(labels)\n",
        "\n",
        "        return unroll_data, unroll_labels\n",
        "    \n",
        "    def reset_indices(self):\n",
        "        for b in range(self._batch_size):\n",
        "            self._cursor[b] = np.random.randint(0,min((b+1)*self._segments,self._prices_length-1))\n",
        "        \n",
        "\n",
        "\n",
        "dg = DataGeneratorSeq(train_data,5,5)\n",
        "u_data, u_labels = dg.unroll_batches()\n",
        "\n",
        "for ui,(dat,lbl) in enumerate(zip(u_data,u_labels)):   \n",
        "    print('\\n\\nUnrolled index %d'%ui)\n",
        "    dat_ind = dat\n",
        "    lbl_ind = lbl\n",
        "    print('\\tInputs: ',dat )\n",
        "    print('\\n\\tOutput:',lbl)"
      ],
      "execution_count": 0,
      "outputs": [
        {
          "output_type": "stream",
          "text": [
            "\n",
            "\n",
            "Unrolled index 0\n",
            "\tInputs:  [0.         0.6626207  0.17945267 0.5265893  0.09429003]\n",
            "\n",
            "\tOutput: [0.3439     0.6375351  0.320821   0.56538343 0.06186369]\n",
            "\n",
            "\n",
            "Unrolled index 1\n",
            "\tInputs:  [0.1        0.6375351  0.1615074  0.54700726 0.08486103]\n",
            "\n",
            "\tOutput: [0.271      0.53966326 0.3887389  0.41216454 0.06873743]\n",
            "\n",
            "\n",
            "Unrolled index 2\n",
            "\tInputs:  [0.19       0.6090757  0.24535666 0.56538343 0.07637492]\n",
            "\n",
            "\tOutput: [0.3439     0.520991   0.44334003 0.37094808 0.06873743]\n",
            "\n",
            "\n",
            "Unrolled index 3\n",
            "\tInputs:  [0.271      0.58346224 0.320821   0.5088451  0.06873743]\n",
            "\n",
            "\tOutput: [0.468559   0.520991   0.3887389  0.33385327 0.05567732]\n",
            "\n",
            "\n",
            "Unrolled index 4\n",
            "\tInputs:  [0.3439     0.56041014 0.3887389  0.4579606  0.06186369]\n",
            "\n",
            "\tOutput: [0.468559   0.53966326 0.43746758 0.41216454 0.04058876]\n"
          ],
          "name": "stdout"
        }
      ]
    },
    {
      "cell_type": "code",
      "metadata": {
        "id": "y0hUtA2mgnZm",
        "colab_type": "code",
        "colab": {}
      },
      "source": [
        "D = 1 # Dimensionality of the data. Since our data is 1-D this would be 1\n",
        "num_unrollings = 50 # Number of time steps you look into the future.\n",
        "batch_size = 500 # Number of samples in a batch\n",
        "num_nodes = [200,200,150] # Number of hidden nodes in each layer of the deep LSTM stack we're using\n",
        "n_layers = len(num_nodes) # number of layers\n",
        "dropout = 0.2 # dropout amount\n",
        "\n",
        "tf.reset_default_graph() # This is important in case you run this multiple times"
      ],
      "execution_count": 0,
      "outputs": []
    },
    {
      "cell_type": "code",
      "metadata": {
        "id": "CKQKDN9qhOE9",
        "colab_type": "code",
        "colab": {}
      },
      "source": [
        "train_inputs, train_outputs = [],[]\n",
        "\n",
        "# You unroll the input over time defining placeholders for each time step\n",
        "for ui in range(num_unrollings):\n",
        "    train_inputs.append(tf.placeholder(tf.float32, shape=[batch_size,D],name='train_inputs_%d'%ui))\n",
        "    train_outputs.append(tf.placeholder(tf.float32, shape=[batch_size,1], name = 'train_outputs_%d'%ui))"
      ],
      "execution_count": 0,
      "outputs": []
    },
    {
      "cell_type": "code",
      "metadata": {
        "id": "VggYeMPGilam",
        "colab_type": "code",
        "outputId": "a29324fe-50f6-4892-bf88-9377fca8ad64",
        "colab": {
          "base_uri": "https://localhost:8080/",
          "height": 54
        }
      },
      "source": [
        "print(train_outputs)"
      ],
      "execution_count": 0,
      "outputs": [
        {
          "output_type": "stream",
          "text": [
            "[<tf.Tensor 'train_outputs_0:0' shape=(500, 1) dtype=float32>, <tf.Tensor 'train_outputs_1:0' shape=(500, 1) dtype=float32>, <tf.Tensor 'train_outputs_2:0' shape=(500, 1) dtype=float32>, <tf.Tensor 'train_outputs_3:0' shape=(500, 1) dtype=float32>, <tf.Tensor 'train_outputs_4:0' shape=(500, 1) dtype=float32>, <tf.Tensor 'train_outputs_5:0' shape=(500, 1) dtype=float32>, <tf.Tensor 'train_outputs_6:0' shape=(500, 1) dtype=float32>, <tf.Tensor 'train_outputs_7:0' shape=(500, 1) dtype=float32>, <tf.Tensor 'train_outputs_8:0' shape=(500, 1) dtype=float32>, <tf.Tensor 'train_outputs_9:0' shape=(500, 1) dtype=float32>, <tf.Tensor 'train_outputs_10:0' shape=(500, 1) dtype=float32>, <tf.Tensor 'train_outputs_11:0' shape=(500, 1) dtype=float32>, <tf.Tensor 'train_outputs_12:0' shape=(500, 1) dtype=float32>, <tf.Tensor 'train_outputs_13:0' shape=(500, 1) dtype=float32>, <tf.Tensor 'train_outputs_14:0' shape=(500, 1) dtype=float32>, <tf.Tensor 'train_outputs_15:0' shape=(500, 1) dtype=float32>, <tf.Tensor 'train_outputs_16:0' shape=(500, 1) dtype=float32>, <tf.Tensor 'train_outputs_17:0' shape=(500, 1) dtype=float32>, <tf.Tensor 'train_outputs_18:0' shape=(500, 1) dtype=float32>, <tf.Tensor 'train_outputs_19:0' shape=(500, 1) dtype=float32>, <tf.Tensor 'train_outputs_20:0' shape=(500, 1) dtype=float32>, <tf.Tensor 'train_outputs_21:0' shape=(500, 1) dtype=float32>, <tf.Tensor 'train_outputs_22:0' shape=(500, 1) dtype=float32>, <tf.Tensor 'train_outputs_23:0' shape=(500, 1) dtype=float32>, <tf.Tensor 'train_outputs_24:0' shape=(500, 1) dtype=float32>, <tf.Tensor 'train_outputs_25:0' shape=(500, 1) dtype=float32>, <tf.Tensor 'train_outputs_26:0' shape=(500, 1) dtype=float32>, <tf.Tensor 'train_outputs_27:0' shape=(500, 1) dtype=float32>, <tf.Tensor 'train_outputs_28:0' shape=(500, 1) dtype=float32>, <tf.Tensor 'train_outputs_29:0' shape=(500, 1) dtype=float32>, <tf.Tensor 'train_outputs_30:0' shape=(500, 1) dtype=float32>, <tf.Tensor 'train_outputs_31:0' shape=(500, 1) dtype=float32>, <tf.Tensor 'train_outputs_32:0' shape=(500, 1) dtype=float32>, <tf.Tensor 'train_outputs_33:0' shape=(500, 1) dtype=float32>, <tf.Tensor 'train_outputs_34:0' shape=(500, 1) dtype=float32>, <tf.Tensor 'train_outputs_35:0' shape=(500, 1) dtype=float32>, <tf.Tensor 'train_outputs_36:0' shape=(500, 1) dtype=float32>, <tf.Tensor 'train_outputs_37:0' shape=(500, 1) dtype=float32>, <tf.Tensor 'train_outputs_38:0' shape=(500, 1) dtype=float32>, <tf.Tensor 'train_outputs_39:0' shape=(500, 1) dtype=float32>, <tf.Tensor 'train_outputs_40:0' shape=(500, 1) dtype=float32>, <tf.Tensor 'train_outputs_41:0' shape=(500, 1) dtype=float32>, <tf.Tensor 'train_outputs_42:0' shape=(500, 1) dtype=float32>, <tf.Tensor 'train_outputs_43:0' shape=(500, 1) dtype=float32>, <tf.Tensor 'train_outputs_44:0' shape=(500, 1) dtype=float32>, <tf.Tensor 'train_outputs_45:0' shape=(500, 1) dtype=float32>, <tf.Tensor 'train_outputs_46:0' shape=(500, 1) dtype=float32>, <tf.Tensor 'train_outputs_47:0' shape=(500, 1) dtype=float32>, <tf.Tensor 'train_outputs_48:0' shape=(500, 1) dtype=float32>, <tf.Tensor 'train_outputs_49:0' shape=(500, 1) dtype=float32>]\n"
          ],
          "name": "stdout"
        }
      ]
    },
    {
      "cell_type": "code",
      "metadata": {
        "id": "IU55mALikP9j",
        "colab_type": "code",
        "outputId": "83d01d2d-cb58-4c78-e463-ca1807b4b75b",
        "colab": {
          "base_uri": "https://localhost:8080/",
          "height": 139
        }
      },
      "source": [
        "lstm_cells = [\n",
        "    tf.contrib.rnn.LSTMCell(num_units=num_nodes[li],\n",
        "                            state_is_tuple=True,\n",
        "                            initializer= tf.contrib.layers.xavier_initializer()\n",
        "                           )\n",
        " for li in range(n_layers)]\n",
        "\n",
        "drop_lstm_cells = [tf.contrib.rnn.DropoutWrapper(\n",
        "    lstm, input_keep_prob=1.0,output_keep_prob=1.0-dropout, state_keep_prob=1.0-dropout\n",
        ") for lstm in lstm_cells]\n",
        "drop_multi_cell = tf.contrib.rnn.MultiRNNCell(drop_lstm_cells)\n",
        "multi_cell = tf.contrib.rnn.MultiRNNCell(lstm_cells)\n",
        "\n",
        "w = tf.get_variable('w',shape=[num_nodes[-1], 1], initializer=tf.contrib.layers.xavier_initializer())\n",
        "b = tf.get_variable('b',initializer=tf.random_uniform([1],-0.1,0.1))"
      ],
      "execution_count": 0,
      "outputs": [
        {
          "output_type": "stream",
          "text": [
            "WARNING:tensorflow:From <ipython-input-29-c24fa21357f4>:6: LSTMCell.__init__ (from tensorflow.python.ops.rnn_cell_impl) is deprecated and will be removed in a future version.\n",
            "Instructions for updating:\n",
            "This class is equivalent as tf.keras.layers.LSTMCell, and will be replaced by that in Tensorflow 2.0.\n",
            "WARNING:tensorflow:From <ipython-input-29-c24fa21357f4>:11: MultiRNNCell.__init__ (from tensorflow.python.ops.rnn_cell_impl) is deprecated and will be removed in a future version.\n",
            "Instructions for updating:\n",
            "This class is equivalent as tf.keras.layers.StackedRNNCells, and will be replaced by that in Tensorflow 2.0.\n"
          ],
          "name": "stdout"
        }
      ]
    },
    {
      "cell_type": "code",
      "metadata": {
        "id": "9iw_5g2VkZmf",
        "colab_type": "code",
        "outputId": "f9eddb20-de63-4008-efcc-837923bab0b7",
        "colab": {
          "base_uri": "https://localhost:8080/",
          "height": 34
        }
      },
      "source": [
        "print(b)"
      ],
      "execution_count": 0,
      "outputs": [
        {
          "output_type": "stream",
          "text": [
            "<tf.Variable 'b:0' shape=(1,) dtype=float32_ref>\n"
          ],
          "name": "stdout"
        }
      ]
    },
    {
      "cell_type": "code",
      "metadata": {
        "id": "JyvSLU1Hkgq5",
        "colab_type": "code",
        "outputId": "b920a83a-750e-4b78-8747-98a82e685870",
        "colab": {
          "base_uri": "https://localhost:8080/",
          "height": 190
        }
      },
      "source": [
        "# Create cell state and hidden state variables to maintain the state of the LSTM\n",
        "c, h = [],[]\n",
        "initial_state = []\n",
        "for li in range(n_layers):\n",
        "  c.append(tf.Variable(tf.zeros([batch_size, num_nodes[li]]), trainable=False))\n",
        "  h.append(tf.Variable(tf.zeros([batch_size, num_nodes[li]]), trainable=False))\n",
        "  initial_state.append(tf.contrib.rnn.LSTMStateTuple(c[li], h[li]))\n",
        "\n",
        "# Do several tensor transofmations, because the function dynamic_rnn requires the output to be of \n",
        "# a specific format. Read more at: https://www.tensorflow.org/api_docs/python/tf/nn/dynamic_rnn\n",
        "all_inputs = tf.concat([tf.expand_dims(t,0) for t in train_inputs],axis=0)\n",
        "\n",
        "# all_outputs is [seq_length, batch_size, num_nodes]\n",
        "all_lstm_outputs, state = tf.nn.dynamic_rnn(\n",
        "    drop_multi_cell, all_inputs, initial_state=tuple(initial_state),\n",
        "    time_major = True, dtype=tf.float32)\n",
        "\n",
        "all_lstm_outputs = tf.reshape(all_lstm_outputs, [batch_size*num_unrollings,num_nodes[-1]])\n",
        "\n",
        "all_outputs = tf.nn.xw_plus_b(all_lstm_outputs,w,b)\n",
        "\n",
        "split_outputs = tf.split(all_outputs,num_unrollings,axis=0)"
      ],
      "execution_count": 0,
      "outputs": [
        {
          "output_type": "stream",
          "text": [
            "WARNING:tensorflow:From <ipython-input-32-4afe1e0b492e>:15: dynamic_rnn (from tensorflow.python.ops.rnn) is deprecated and will be removed in a future version.\n",
            "Instructions for updating:\n",
            "Please use `keras.layers.RNN(cell)`, which is equivalent to this API\n",
            "WARNING:tensorflow:From /usr/local/lib/python3.6/dist-packages/tensorflow_core/python/ops/rnn_cell_impl.py:958: Layer.add_variable (from tensorflow.python.keras.engine.base_layer) is deprecated and will be removed in a future version.\n",
            "Instructions for updating:\n",
            "Please use `layer.add_weight` method instead.\n",
            "WARNING:tensorflow:From /usr/local/lib/python3.6/dist-packages/tensorflow_core/python/ops/rnn_cell_impl.py:962: calling Zeros.__init__ (from tensorflow.python.ops.init_ops) with dtype is deprecated and will be removed in a future version.\n",
            "Instructions for updating:\n",
            "Call initializer instance with the dtype argument instead of passing it to the constructor\n"
          ],
          "name": "stdout"
        }
      ]
    },
    {
      "cell_type": "code",
      "metadata": {
        "id": "zU57CPHQoPpm",
        "colab_type": "code",
        "outputId": "67158486-9439-437e-c96a-de6c515e8489",
        "colab": {
          "base_uri": "https://localhost:8080/",
          "height": 156
        }
      },
      "source": [
        "# When calculating the loss you need to be careful about the exact form, because you calculate\n",
        "# loss of all the unrolled steps at the same time\n",
        "# Therefore, take the mean error or each batch and get the sum of that over all the unrolled steps\n",
        "\n",
        "print('Defining training Loss')\n",
        "loss = 0.0\n",
        "with tf.control_dependencies([tf.assign(c[li], state[li][0]) for li in range(n_layers)]+\n",
        "                             [tf.assign(h[li], state[li][1]) for li in range(n_layers)]):\n",
        "  for ui in range(num_unrollings):\n",
        "    loss += tf.reduce_mean(0.5*(split_outputs[ui]-train_outputs[ui])**2)\n",
        "\n",
        "print('Learning rate decay operations')\n",
        "global_step = tf.Variable(0, trainable=False)\n",
        "inc_gstep = tf.assign(global_step,global_step + 1)\n",
        "tf_learning_rate = tf.placeholder(shape=None,dtype=tf.float32)\n",
        "tf_min_learning_rate = tf.placeholder(shape=None,dtype=tf.float32)\n",
        "\n",
        "learning_rate = tf.maximum(\n",
        "    tf.train.exponential_decay(tf_learning_rate, global_step, decay_steps=1, decay_rate=0.5, staircase=True),\n",
        "    tf_min_learning_rate)\n",
        "\n",
        "# Optimizer.\n",
        "print('TF Optimization operations')\n",
        "optimizer = tf.train.AdamOptimizer(learning_rate)\n",
        "gradients, v = zip(*optimizer.compute_gradients(loss))\n",
        "gradients, _ = tf.clip_by_global_norm(gradients, 5.0)\n",
        "optimizer = optimizer.apply_gradients(\n",
        "    zip(gradients, v))\n",
        "\n",
        "print('\\tAll done')"
      ],
      "execution_count": 0,
      "outputs": [
        {
          "output_type": "stream",
          "text": [
            "Defining training Loss\n",
            "Learning rate decay operations\n",
            "TF Optimization operations\n",
            "WARNING:tensorflow:From /usr/local/lib/python3.6/dist-packages/tensorflow_core/python/ops/math_grad.py:1375: where (from tensorflow.python.ops.array_ops) is deprecated and will be removed in a future version.\n",
            "Instructions for updating:\n",
            "Use tf.where in 2.0, which has the same broadcast rule as np.where\n",
            "\tAll done\n"
          ],
          "name": "stdout"
        }
      ]
    },
    {
      "cell_type": "code",
      "metadata": {
        "id": "lfReH0nHqjHh",
        "colab_type": "code",
        "outputId": "51c72a34-325e-49e8-a581-4150b4b5c446",
        "colab": {
          "base_uri": "https://localhost:8080/",
          "height": 51
        }
      },
      "source": [
        "print('Defining prediction related TF functions')\n",
        "\n",
        "sample_inputs = tf.placeholder(tf.float32, shape=[1,D])\n",
        "\n",
        "# Maintaining LSTM state for prediction stage\n",
        "sample_c, sample_h, initial_sample_state = [],[],[]\n",
        "for li in range(n_layers):\n",
        "  sample_c.append(tf.Variable(tf.zeros([1, num_nodes[li]]), trainable=False))\n",
        "  sample_h.append(tf.Variable(tf.zeros([1, num_nodes[li]]), trainable=False))\n",
        "  initial_sample_state.append(tf.contrib.rnn.LSTMStateTuple(sample_c[li],sample_h[li]))\n",
        "\n",
        "reset_sample_states = tf.group(*[tf.assign(sample_c[li],tf.zeros([1, num_nodes[li]])) for li in range(n_layers)],\n",
        "                               *[tf.assign(sample_h[li],tf.zeros([1, num_nodes[li]])) for li in range(n_layers)])\n",
        "\n",
        "sample_outputs, sample_state = tf.nn.dynamic_rnn(multi_cell, tf.expand_dims(sample_inputs,0),\n",
        "                                   initial_state=tuple(initial_sample_state),\n",
        "                                   time_major = True,\n",
        "                                   dtype=tf.float32)\n",
        "\n",
        "with tf.control_dependencies([tf.assign(sample_c[li],sample_state[li][0]) for li in range(n_layers)]+\n",
        "                              [tf.assign(sample_h[li],sample_state[li][1]) for li in range(n_layers)]):  \n",
        "  sample_prediction = tf.nn.xw_plus_b(tf.reshape(sample_outputs,[1,-1]), w, b)\n",
        "\n",
        "print('\\tAll done')"
      ],
      "execution_count": 0,
      "outputs": [
        {
          "output_type": "stream",
          "text": [
            "Defining prediction related TF functions\n",
            "\tAll done\n"
          ],
          "name": "stdout"
        }
      ]
    },
    {
      "cell_type": "code",
      "metadata": {
        "id": "cbyz6i1xqxKP",
        "colab_type": "code",
        "outputId": "6afcdb23-b6e0-4eb6-d9cc-d45503121a5b",
        "colab": {
          "base_uri": "https://localhost:8080/",
          "height": 1000
        }
      },
      "source": [
        "epochs = 30\n",
        "valid_summary = 1 # Interval you make test predictions\n",
        "\n",
        "n_predict_once = 50 # Number of steps you continously predict for\n",
        "\n",
        "train_seq_length = train_data.size # Full length of the training data\n",
        "\n",
        "train_mse_ot = [] # Accumulate Train losses\n",
        "test_mse_ot = [] # Accumulate Test loss\n",
        "predictions_over_time = [] # Accumulate predictions\n",
        "\n",
        "session = tf.InteractiveSession()\n",
        "\n",
        "tf.global_variables_initializer().run()\n",
        "\n",
        "# Used for decaying learning rate\n",
        "loss_nondecrease_count = 0\n",
        "loss_nondecrease_threshold = 2 # If the test error hasn't increased in this many steps, decrease learning rate\n",
        "\n",
        "print('Initialized')\n",
        "average_loss = 0\n",
        "\n",
        "# Define data generator\n",
        "data_gen = DataGeneratorSeq(train_data,batch_size,num_unrollings) \n",
        "\n",
        "x_axis_seq = []\n",
        "\n",
        "# Points you start our test predictions from\n",
        "test_points_seq = np.arange(36).tolist() \n",
        "\n",
        "for ep in range(epochs):       \n",
        "    \n",
        "    # ========================= Training =====================================\n",
        "    for step in range(train_seq_length//batch_size):\n",
        "        \n",
        "        u_data, u_labels = data_gen.unroll_batches()\n",
        "\n",
        "        feed_dict = {}\n",
        "        for ui,(dat,lbl) in enumerate(zip(u_data,u_labels)):            \n",
        "            feed_dict[train_inputs[ui]] = dat.reshape(-1,1)\n",
        "            feed_dict[train_outputs[ui]] = lbl.reshape(-1,1)\n",
        "        \n",
        "        feed_dict.update({tf_learning_rate: 0.0001, tf_min_learning_rate:0.000001})\n",
        "\n",
        "        _, l = session.run([optimizer, loss], feed_dict=feed_dict)\n",
        "\n",
        "        average_loss += l\n",
        "        \n",
        "    \n",
        "    # ============================ Validation ==============================\n",
        "    if (ep+1) % valid_summary == 0:\n",
        "      try:\n",
        "        average_loss = average_loss/(valid_summary*(train_seq_length//batch_size))\n",
        "      except ZeroDivisionError:\n",
        "        average_loss=0\n",
        "      # The average loss\n",
        "      if (ep+1)%valid_summary==0:\n",
        "        print('Average loss at step %d: %f' % (ep+1, average_loss))\n",
        "      \n",
        "      train_mse_ot.append(average_loss)\n",
        "            \n",
        "      average_loss = 0 # reset loss\n",
        "      \n",
        "      predictions_seq = []\n",
        "      \n",
        "      mse_test_loss_seq = []\n",
        "      \n",
        "      # ===================== Updating State and Making Predicitons ========================\n",
        "      for w_i in test_points_seq:\n",
        "        mse_test_loss = 0.0\n",
        "        our_predictions = []\n",
        "        \n",
        "        if (ep+1)-valid_summary==0:\n",
        "          # Only calculate x_axis values in the first validation epoch\n",
        "          x_axis=[]\n",
        "        feed_dict = {}  \n",
        "        # Feed in the recent past behavior of stock prices\n",
        "        # to make predictions from that point onwards\n",
        "        for tr_i in range(w_i-num_unrollings+1,w_i-1):\n",
        "          current_price = all_mid_data[tr_i]\n",
        "          feed_dict[sample_inputs] = np.array(current_price).reshape(1,1)    \n",
        "          _ = session.run(sample_prediction,feed_dict=feed_dict)\n",
        "        \n",
        "        feed_dict = {}\n",
        "        \n",
        "        current_price = all_mid_data[w_i-1]\n",
        "        \n",
        "        feed_dict[sample_inputs] = np.array(current_price).reshape(1,1)\n",
        "        \n",
        "        # Make predictions for this many steps\n",
        "        # Each prediction uses previous prediciton as it's current input\n",
        "        for pred_i in range(n_predict_once):\n",
        "\n",
        "          pred = session.run(sample_prediction,feed_dict=feed_dict)\n",
        "        \n",
        "          our_predictions.append(np.asscalar(pred))\n",
        "        \n",
        "          feed_dict[sample_inputs] = np.asarray(pred).reshape(-1,1)\n",
        "\n",
        "          if (ep+1)-valid_summary==0:\n",
        "            # Only calculate x_axis values in the first validation epoch\n",
        "            x_axis.append(w_i+pred_i)\n",
        "\n",
        "          mse_test_loss += 0.5*(pred-all_mid_data[w_i+pred_i])**2\n",
        "        \n",
        "        session.run(reset_sample_states)\n",
        "        \n",
        "        predictions_seq.append(np.array(our_predictions))\n",
        "        \n",
        "        mse_test_loss /= n_predict_once\n",
        "        mse_test_loss_seq.append(mse_test_loss)\n",
        "        \n",
        "        if (ep+1)-valid_summary==0:\n",
        "          x_axis_seq.append(x_axis)\n",
        "        \n",
        "      current_test_mse = np.mean(mse_test_loss_seq)\n",
        "      \n",
        "      # Learning rate decay logic\n",
        "      if len(test_mse_ot)>0 and current_test_mse > min(test_mse_ot):\n",
        "          loss_nondecrease_count += 1\n",
        "      else:\n",
        "          loss_nondecrease_count = 0\n",
        "      \n",
        "      if loss_nondecrease_count > loss_nondecrease_threshold :\n",
        "            session.run(inc_gstep)\n",
        "            loss_nondecrease_count = 0\n",
        "            print('\\tDecreasing learning rate by 0.5')\n",
        "      \n",
        "      test_mse_ot.append(current_test_mse)\n",
        "      print('\\tTest MSE: %.5f'%np.mean(mse_test_loss_seq))\n",
        "      predictions_over_time.append(predictions_seq)\n",
        "      print('\\tFinished Predictions')"
      ],
      "execution_count": 0,
      "outputs": [
        {
          "output_type": "stream",
          "text": [
            "/usr/local/lib/python3.6/dist-packages/tensorflow_core/python/client/session.py:1750: UserWarning: An interactive session is already active. This can cause out-of-memory errors in some cases. You must explicitly call `InteractiveSession.close()` to release resources held by the other session(s).\n",
            "  warnings.warn('An interactive session is already active. This can '\n"
          ],
          "name": "stderr"
        },
        {
          "output_type": "stream",
          "text": [
            "Initialized\n",
            "Average loss at step 1: 0.000000\n"
          ],
          "name": "stdout"
        },
        {
          "output_type": "stream",
          "text": [
            "/usr/local/lib/python3.6/dist-packages/ipykernel_launcher.py:96: DeprecationWarning: np.asscalar(a) is deprecated since NumPy v1.16, use a.item() instead\n"
          ],
          "name": "stderr"
        },
        {
          "output_type": "stream",
          "text": [
            "\tTest MSE: 0.09669\n",
            "\tFinished Predictions\n",
            "Average loss at step 2: 0.000000\n",
            "\tTest MSE: 0.09669\n",
            "\tFinished Predictions\n",
            "Average loss at step 3: 0.000000\n",
            "\tTest MSE: 0.09669\n",
            "\tFinished Predictions\n",
            "Average loss at step 4: 0.000000\n",
            "\tTest MSE: 0.09669\n",
            "\tFinished Predictions\n",
            "Average loss at step 5: 0.000000\n",
            "\tTest MSE: 0.09669\n",
            "\tFinished Predictions\n",
            "Average loss at step 6: 0.000000\n",
            "\tTest MSE: 0.09669\n",
            "\tFinished Predictions\n",
            "Average loss at step 7: 0.000000\n",
            "\tTest MSE: 0.09669\n",
            "\tFinished Predictions\n",
            "Average loss at step 8: 0.000000\n",
            "\tTest MSE: 0.09669\n",
            "\tFinished Predictions\n",
            "Average loss at step 9: 0.000000\n",
            "\tTest MSE: 0.09669\n",
            "\tFinished Predictions\n",
            "Average loss at step 10: 0.000000\n",
            "\tTest MSE: 0.09669\n",
            "\tFinished Predictions\n",
            "Average loss at step 11: 0.000000\n",
            "\tTest MSE: 0.09669\n",
            "\tFinished Predictions\n",
            "Average loss at step 12: 0.000000\n",
            "\tTest MSE: 0.09669\n",
            "\tFinished Predictions\n",
            "Average loss at step 13: 0.000000\n",
            "\tTest MSE: 0.09669\n",
            "\tFinished Predictions\n",
            "Average loss at step 14: 0.000000\n",
            "\tTest MSE: 0.09669\n",
            "\tFinished Predictions\n",
            "Average loss at step 15: 0.000000\n",
            "\tTest MSE: 0.09669\n",
            "\tFinished Predictions\n",
            "Average loss at step 16: 0.000000\n",
            "\tTest MSE: 0.09669\n",
            "\tFinished Predictions\n",
            "Average loss at step 17: 0.000000\n",
            "\tTest MSE: 0.09669\n",
            "\tFinished Predictions\n",
            "Average loss at step 18: 0.000000\n",
            "\tTest MSE: 0.09669\n",
            "\tFinished Predictions\n",
            "Average loss at step 19: 0.000000\n",
            "\tTest MSE: 0.09669\n",
            "\tFinished Predictions\n",
            "Average loss at step 20: 0.000000\n",
            "\tTest MSE: 0.09669\n",
            "\tFinished Predictions\n",
            "Average loss at step 21: 0.000000\n",
            "\tTest MSE: 0.09669\n",
            "\tFinished Predictions\n",
            "Average loss at step 22: 0.000000\n",
            "\tTest MSE: 0.09669\n",
            "\tFinished Predictions\n",
            "Average loss at step 23: 0.000000\n",
            "\tTest MSE: 0.09669\n",
            "\tFinished Predictions\n",
            "Average loss at step 24: 0.000000\n",
            "\tTest MSE: 0.09669\n",
            "\tFinished Predictions\n",
            "Average loss at step 25: 0.000000\n",
            "\tTest MSE: 0.09669\n",
            "\tFinished Predictions\n",
            "Average loss at step 26: 0.000000\n",
            "\tTest MSE: 0.09669\n",
            "\tFinished Predictions\n",
            "Average loss at step 27: 0.000000\n",
            "\tTest MSE: 0.09669\n",
            "\tFinished Predictions\n",
            "Average loss at step 28: 0.000000\n",
            "\tTest MSE: 0.09669\n",
            "\tFinished Predictions\n",
            "Average loss at step 29: 0.000000\n",
            "\tTest MSE: 0.09669\n",
            "\tFinished Predictions\n",
            "Average loss at step 30: 0.000000\n",
            "\tTest MSE: 0.09669\n",
            "\tFinished Predictions\n"
          ],
          "name": "stdout"
        }
      ]
    },
    {
      "cell_type": "code",
      "metadata": {
        "id": "Lwp17PWa0mFJ",
        "colab_type": "code",
        "outputId": "399e77fd-6367-4d73-8969-8eedd0a28d3a",
        "colab": {
          "base_uri": "https://localhost:8080/",
          "height": 1000
        }
      },
      "source": [
        "best_prediction_epoch = 28 # replace this with the epoch that you got the best results when running the plotting code\n",
        "\n",
        "plt.figure(figsize = (18,18))\n",
        "plt.subplot(2,1,1)\n",
        "plt.plot(range(df.shape[0]),all_mid_data,color='b')\n",
        "\n",
        "# Plotting how the predictions change over time\n",
        "# Plot older predictions with low alpha and newer predictions with high alpha\n",
        "start_alpha = 0.25\n",
        "alpha  = np.arange(start_alpha,1.1,(1.0-start_alpha)/len(predictions_over_time[::3]))\n",
        "for p_i,p in enumerate(predictions_over_time[::3]):\n",
        "    for xval,yval in zip(x_axis_seq,p):\n",
        "        plt.plot(xval,yval,color='r',alpha=alpha[p_i])\n",
        "\n",
        "plt.title('Evolution of Test Predictions Over Time',fontsize=18)\n",
        "plt.xlabel('Date',fontsize=18)\n",
        "plt.ylabel('Mid Price',fontsize=18)\n",
        "plt.xlim(0,136)\n",
        "\n",
        "plt.subplot(2,1,2)\n",
        "\n",
        "# Predicting the best test prediction you got\n",
        "plt.plot(range(df.shape[0]),all_mid_data,color='b')\n",
        "for xval,yval in zip(x_axis_seq,predictions_over_time[best_prediction_epoch]):\n",
        "    plt.plot(xval,yval,color='r')\n",
        "    \n",
        "plt.title('Best Test Predictions Over Time',fontsize=18)\n",
        "plt.xlabel('Date',fontsize=18)\n",
        "plt.ylabel('Mid Price',fontsize=18)\n",
        "plt.xlim(0,136)\n",
        "plt.show()"
      ],
      "execution_count": 0,
      "outputs": [
        {
          "output_type": "display_data",
          "data": {
            "image/png": "[encoded data removed]",
            "text/plain": [
              "<Figure size 1296x1296 with 2 Axes>"
            ]
          },
          "metadata": {
            "tags": []
          }
        }
      ]
    }
  ]
}